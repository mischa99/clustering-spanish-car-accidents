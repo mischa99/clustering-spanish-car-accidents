{
 "cells": [
  {
   "cell_type": "code",
   "execution_count": 1,
   "metadata": {},
   "outputs": [],
   "source": [
    "from sklearn.metrics import calinski_harabasz_score, silhouette_score\n",
    "import pandas as pd\n",
    "import seaborn\n",
    "from math import floor"
   ]
  },
  {
   "cell_type": "code",
   "execution_count": 2,
   "metadata": {},
   "outputs": [],
   "source": [
    "def to_matrix(df, columns=[]):\n",
    "    \"\"\"Devuelve los atributos seleccionados como valores\"\"\"\n",
    "    return df[columns].dropna().values"
   ]
  },
  {
   "cell_type": "code",
   "execution_count": 3,
   "metadata": {},
   "outputs": [],
   "source": [
    "def norm(data):\n",
    "    \"\"\"Normaliza una serie de datos\"\"\"\n",
    "    return (data - data.min(axis=0))/(data.max(axis=0)-data.min(axis=0))\n"
   ]
  },
  {
   "cell_type": "code",
   "execution_count": 4,
   "metadata": {},
   "outputs": [],
   "source": [
    "def measures_silhoutte_calinski(data, labels):\n",
    "    \"\"\"\n",
    "    Devuelve el resultado de evaluar los clusters de data asociados con labels.\n",
    "    \n",
    "    Parámetros:\n",
    "    \n",
    "    - data vector de datos ya normalizados.\n",
    "    - labels: etiquetas.\n",
    "    \"\"\"\n",
    "    # Hacemos una muestra de sólo el 20% porque son muchos elementos\n",
    "    muestra_silhoutte = 0.2 if (len(data) > 10000) else 1.0\n",
    "    silhouette = silhouette_score(data, labels, metric='euclidean', sample_size=int(floor(data.shape[0]*muestra_silhoutte)))\n",
    "    calinski = calinski_harabasz_score(data, labels)\n",
    "    return silhouette, calinski\n"
   ]
  },
  {
   "cell_type": "code",
   "execution_count": 5,
   "metadata": {},
   "outputs": [],
   "source": [
    "def print_measure(measure, value):\n",
    "    \"\"\"\n",
    "    Muestra el valor con un número fijo de decimales\n",
    "    \"\"\"\n",
    "    print(\"{}: {:.3f}\".format(measure, value))"
   ]
  },
  {
   "cell_type": "code",
   "execution_count": 6,
   "metadata": {},
   "outputs": [],
   "source": [
    "def pairplot(df, columns, labels):\n",
    "    \"\"\"\n",
    "    Devuelve una imagen pairplot.\n",
    "\n",
    "    Parámetros:\n",
    "\n",
    "    - df: dataframe\n",
    "    - columns: atributos a considerar\n",
    "    - labels: etiquetas\n",
    "    \"\"\"\n",
    "    df_plot = df.loc[:,columns]\n",
    "    df_plot['classif'] = labels\n",
    "    seaborn.pairplot(df_plot, hue='classif', palette='Paired')\n"
   ]
  },
  {
   "cell_type": "code",
   "execution_count": 7,
   "metadata": {},
   "outputs": [],
   "source": [
    "def denorm(data, df):\n",
    "    \"\"\"\n",
    "    Permite desnormalizar\n",
    "    \"\"\"\n",
    "    return data*(df.max(axis=0)-df.min(axis=0))+df.min(axis=0)\n"
   ]
  },
  {
   "cell_type": "code",
   "execution_count": 8,
   "metadata": {},
   "outputs": [],
   "source": [
    "def visualize_centroids(centers, data, columns):\n",
    "    \"\"\"\n",
    "    Visualiza los centroides.\n",
    "\n",
    "    Parametros:\n",
    "\n",
    "    - centers: centroides.\n",
    "    - data: listado de atributos.\n",
    "    - columns: nombres de los atributos.\n",
    "    \"\"\"\n",
    "    df_centers = pd.DataFrame(centers,columns=columns)\n",
    "    centers_desnormal=denorm(centers, data)\n",
    "    hm = seaborn.heatmap(df_centers, cmap=\"YlGnBu\", annot=centers_desnormal, fmt='.3f')\n",
    "    hm.set_xticklabels(hm.get_xticklabels(), rotation = 45, fontsize = 8)\n",
    "    # estas tres lineas las he añadido para evitar que se corten la linea superior e inferior del heatmap\n",
    "    bottom, top = hm.get_ylim()\n",
    "    hm.set_ylim(bottom + 0.5, top - 0.5)\n",
    "    hm.figure.tight_layout()\n",
    "    return hm\n"
   ]
  },
  {
   "cell_type": "code",
   "execution_count": 1,
   "metadata": {},
   "outputs": [],
   "source": [
    "from kneed import KneeLocator\n",
    "def find_k_ellbow(data, plotname):\n",
    "    sse = []\n",
    "    for k in range(2, 12):\n",
    "        kmeans = KMeans(n_clusters=k, random_state=42)\n",
    "        kmeans.fit(data)\n",
    "        sse.append(kmeans.inertia_)\n",
    "\n",
    "\n",
    "    plt.style.use(\"fivethirtyeight\")\n",
    "    plt.plot(range(2, 12), sse)\n",
    "    plt.xticks(range(2, 12))\n",
    "    plt.xlabel(\"Number of Clusters\")\n",
    "    plt.ylabel(\"Inertia\")\n",
    "    plt.tight_layout()\n",
    "    plt.savefig(plotname,dpi=300)\n",
    "    plt.show()\n",
    "\n",
    "    kl = KneeLocator(range(2, 12), sse, curve=\"convex\", direction=\"decreasing\")\n",
    "    return (kl.elbow) "
   ]
  },
  {
   "cell_type": "markdown",
   "metadata": {},
   "source": [
    "Functions for finding the best k using elbow method and silhouette coefficient"
   ]
  },
  {
   "cell_type": "code",
   "execution_count": 2,
   "metadata": {},
   "outputs": [],
   "source": [
    "#silhoutte coefficient\n",
    "def find_k_silhoutte(data, plotname):\n",
    "    silhouette_coefficients = []\n",
    "\n",
    "    for k in range(2, 12):\n",
    "        kmeans = KMeans(n_clusters=k, random_state=42)\n",
    "        kmeans.fit(data)\n",
    "        score = silhouette_score(data, kmeans.labels_)\n",
    "        silhouette_coefficients.append(score)\n",
    "\n",
    "    plt.style.use(\"fivethirtyeight\")\n",
    "    plt.plot(range(2, 12), silhouette_coefficients)\n",
    "    plt.xticks(range(2, 12))\n",
    "    plt.xlabel(\"Number of Clusters\")\n",
    "    plt.ylabel(\"Silhouette Coefficient\")\n",
    "    plt.tight_layout()\n",
    "    plt.savefig(plotname,dpi=300)\n",
    "    plt.show()"
   ]
  }
 ],
 "metadata": {
  "kernelspec": {
   "display_name": "Python 3",
   "language": "python",
   "name": "python3"
  },
  "language_info": {
   "codemirror_mode": {
    "name": "ipython",
    "version": 3
   },
   "file_extension": ".py",
   "mimetype": "text/x-python",
   "name": "python",
   "nbconvert_exporter": "python",
   "pygments_lexer": "ipython3",
   "version": "3.7.4"
  }
 },
 "nbformat": 4,
 "nbformat_minor": 4
}
